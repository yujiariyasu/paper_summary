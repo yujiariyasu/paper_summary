{
 "cells": [
  {
   "cell_type": "code",
   "execution_count": 1,
   "metadata": {},
   "outputs": [
    {
     "name": "stdout",
     "output_type": "stream",
     "text": [
      "Test MSE 12.553030268509042\n",
      "Test NLL 3.6348692375220844\n"
     ]
    }
   ],
   "source": [
    "from ngboost.ngboost import NGBoost\n",
    "from ngboost.learners import default_tree_learner\n",
    "from ngboost.scores import MLE\n",
    "from ngboost.distns import Normal\n",
    "\n",
    "from sklearn.datasets import load_boston\n",
    "from sklearn.model_selection import train_test_split\n",
    "from sklearn.metrics import mean_squared_error\n",
    "\n",
    "\n",
    "X, Y = load_boston(True)\n",
    "X_train, X_test, Y_train, Y_test = train_test_split(X, Y, test_size=0.2)\n",
    "\n",
    "ngb = NGBoost(Base=default_tree_learner, Dist=Normal, natural_gradient=True,verbose=False)\n",
    "ngb.fit(X_train, Y_train)\n",
    "Y_preds = ngb.predict(X_test)\n",
    "Y_dists = ngb.pred_dist(X_test)\n",
    "\n",
    "# test Mean Squared Error\n",
    "test_MSE = mean_squared_error(Y_preds, Y_test)\n",
    "print('Test MSE', test_MSE)\n",
    "\n",
    "#test Negative Log Likelihood\n",
    "test_NLL = -Y_dists.logpdf(Y_test.flatten()).mean()\n",
    "print('Test NLL', test_NLL)"
   ]
  },
  {
   "cell_type": "markdown",
   "metadata": {},
   "source": [
    "# 他のGBMとの比較"
   ]
  },
  {
   "cell_type": "code",
   "execution_count": 3,
   "metadata": {},
   "outputs": [
    {
     "name": "stdout",
     "output_type": "stream",
     "text": [
      "-----NGBoost-----\n",
      "Test NLL 2.8714493152243596\n",
      "MSE train : 2.342, test : 7.079\n",
      "-----lightGBM-----\n",
      "MSE train : 2.283, test : 8.339\n"
     ]
    }
   ],
   "source": [
    "from ngboost.learners import default_tree_learner\n",
    "from ngboost.scores import MLE,CRPS #Maximum Likelihood Estimationl,Continuous Ranked Probability Score\n",
    "from ngboost.distns import Normal\n",
    "from ngboost.ngboost import NGBoost\n",
    "\n",
    "import lightgbm as lgb\n",
    "import warnings\n",
    "warnings.filterwarnings('ignore')\n",
    "\n",
    "from sklearn.datasets import load_boston\n",
    "from sklearn.model_selection import train_test_split\n",
    "from sklearn.metrics import mean_squared_error\n",
    "\n",
    "import numpy as np\n",
    "np.random.seed(42)\n",
    "\n",
    "# Split Dataset\n",
    "X, Y = load_boston(True)\n",
    "X_train, X_test, Y_train, Y_test = train_test_split(X, Y, test_size=0.2,random_state=42)\n",
    "\n",
    "# NGBoost\n",
    "ngb = NGBoost(Base=default_tree_learner, Dist=Normal, natural_gradient=True,verbose=False)\n",
    "ngb.fit(X_train, Y_train)\n",
    "\n",
    "Y_train_pred_ngb = ngb.predict(X_train)\n",
    "Y_test_pred_ngb = ngb.predict(X_test)\n",
    "\n",
    "# NLL\n",
    "Y_dists = ngb.pred_dist(X_test)\n",
    "test_NLL = -Y_dists.logpdf(Y_test.flatten()).mean()\n",
    "\n",
    "# LightGBM\n",
    "lgb = lgb.LGBMRegressor()\n",
    "lgb.fit(X_train, Y_train)\n",
    "\n",
    "Y_train_pred_lgb = lgb.predict(X_train)\n",
    "Y_test_pred_lgb = lgb.predict(X_test)\n",
    "\n",
    "print(\"-----NGBoost-----\")\n",
    "print('Test NLL', test_NLL)\n",
    "print('MSE train : %.3f, test : %.3f' % (mean_squared_error(Y_train, Y_train_pred_ngb), mean_squared_error(Y_test, Y_test_pred_ngb)) )\n",
    "\n",
    "print(\"-----lightGBM-----\")\n",
    "print('MSE train : %.3f, test : %.3f' % (mean_squared_error(Y_train, Y_train_pred_lgb), mean_squared_error(Y_test, Y_test_pred_lgb)) )"
   ]
  },
  {
   "cell_type": "code",
   "execution_count": null,
   "metadata": {},
   "outputs": [],
   "source": []
  }
 ],
 "metadata": {
  "kernelspec": {
   "display_name": "Python 3",
   "language": "python",
   "name": "python3"
  },
  "language_info": {
   "codemirror_mode": {
    "name": "ipython",
    "version": 3
   },
   "file_extension": ".py",
   "mimetype": "text/x-python",
   "name": "python",
   "nbconvert_exporter": "python",
   "pygments_lexer": "ipython3",
   "version": "3.7.3"
  }
 },
 "nbformat": 4,
 "nbformat_minor": 4
}
